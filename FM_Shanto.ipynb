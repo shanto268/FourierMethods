{
 "cells": [
  {
   "cell_type": "markdown",
   "id": "expected-hostel",
   "metadata": {},
   "source": [
    "# Fourier Methods: *FM Communication*\n",
    "\n",
    "**Sadman Ahmed Shanto**\n",
    "\n",
    "---\n",
    "## Table of Contents:\n",
    "* Background and Theory\n",
    "* Experimental Progress Report\n",
    "* Project Questions\n",
    "* Conclusion & Summary\n",
    "---\n",
    "\n",
    "# Background and Theory:\n",
    "\n",
    "\n",
    "\\begin{equation*}\n",
    "F_g = G \\frac{m_1 m_ 2}{r^2} \n",
    "\\label{eq:Fg} \\tag{1}\n",
    "\\end{equation*}\n",
    "\n",
    "\n",
    "<center>\n",
    "<img src=\"cave_scheme.png\" class=\"bg-primary mb-1\" width=\"280px\">\n",
    "    <figcaption><b>Fig. 1:</b> Schematic of Cavendish Apparatus (Credit: GOOGLE)</figcaption>\n",
    "</center>\n",
    "\n",
    "\n",
    "<br><br><br><br>\n",
    "\n",
    "\n",
    "\n",
    "\n",
    "**Message Signal:** $ A_m sin(2\\pi f_mt) $\n",
    "\n",
    "**Carrier Signal:** $ A_c sin(2\\pi f_ct) $\n",
    "\n",
    "**FM Signal:** $ A_c sin(2\\pi f_c t + m_i sin(2 \\pi f_mt)) $\n",
    "\n",
    "**Modulation Index:** $ \\frac{f_{dev}}{f}  $"
   ]
  },
  {
   "cell_type": "markdown",
   "id": "domestic-original",
   "metadata": {},
   "source": [
    "## FM Communication\n",
    "\n",
    "\n",
    "\n",
    "### Experimental Set Up\n",
    "\n",
    "\n",
    "### Methodology\n"
   ]
  },
  {
   "cell_type": "markdown",
   "id": "growing-tours",
   "metadata": {},
   "source": [
    "---\n",
    "# Experimental Progress Report\n",
    "\n",
    "## Day 1:\n",
    "\n",
    "Read through the TeachSpin manual and required materials before toying with the equipment. Last team to use this apparatus did not take after themselves so had to clean up their set up. Observed they did not zero the power supply on any of the systems. Played with the Signal Generator and Fourier Methods system to understand them better.\n",
    "\n",
    "- worked on getting transmitter module ready\n",
    "    - waveform generator -> FM\n",
    "    - VCO \n",
    "    - Oscilloscope\n",
    "- demodulator circuit\n",
    "    - implementation\n",
    "- simulation of simple problem\n",
    "    - compare results\n",
    "- reread the manual (saw that LCR and Audio Amp used)\n",
    "- planned on reading fully and doing the manual exp"
   ]
  },
  {
   "cell_type": "markdown",
   "id": "weighted-alarm",
   "metadata": {},
   "source": [
    "## Day 2:\n",
    "\n",
    "Work on actual lab:\n",
    "\n",
    "- followed the manual exp to the T\n",
    "- generated the FM using the Fourier Method system only\n",
    "- tested the set up with 770 \n",
    "- implemented the demodulator\n",
    "    - reason for adding LCR + Audio amp ONLY because of the book example\n",
    "- looked at signal straight from LCR\n",
    "- looked at signal after passing through low pass\n",
    "- successfully recovered/witnessed the FM signal\n",
    "\n",
    "Simultaneously, we worked on \"car jacking\"\n",
    "\n",
    "- borrowed arduino's and Rf120 modules from Dr. K\n",
    "- ran into issues. the Rf120 module can only receive and transmit from other Rf120 modules\n",
    "- found a potential open source solution to read signals using computer\n",
    "    - issue: security alert from macbook\n",
    "- currently thinking about buying a transmitter/receiver for Arduino\n",
    "- also thinking about making an FM antenna\n",
    "- plan on either getting the car jacking project or radio channel from antenna to speaker through our circuit project or both done\n",
    "\n",
    "\n",
    "## Day 3:\n",
    "\n",
    "- report on how our system was vandalized by other group\n",
    "- attempts at making antenna\n",
    "- first try at ethernet antenna\n",
    "- recieved signal but low freq\n",
    "- demodulated but no audio\n",
    "- tried various ways of reading higher freq but ultimately failed\n",
    "- created a dipole antenna using coax\n",
    "    - didn't work\n",
    "    - isolated issue to be a problem of solder\n",
    "\n",
    "\n",
    "<br>\n",
    "<center>\n",
    "<figure class=\"half\" style=\"display:flex\">\n",
    " <img src=\"brod.png\" class=\"bg-primary mb-1\" width=\"280px\">\n",
    "<img src=\"swire.png\" class=\"bg-primary mb-1\" width=\"280px\">\n",
    "</figure>\n",
    "    <figcaption><b>Fig. 5:</b> Issues with the Torsional Balance Set Up (broken balancing rod and snapped torsion wire)</figcaption>\n",
    "</center>\n",
    "\n",
    "## Day 4:\n",
    "\n",
    "- remade the antenna using coax\n",
    "- things worked but low freq reception nevertheless\n",
    "- no radio station audio could be played\n",
    "\n",
    "<br>\n",
    "<center>\n",
    "<figure class=\"half\" style=\"display:flex\">\n",
    "<img src=\"mass_clamp.jpeg\" class=\"bg-primary mb-1\" width=\"280px\">\n",
    " <img src=\"measurement2.jpeg\" class=\"bg-primary mb-1\" width=\"280px\">\n",
    " <img src=\"measurement.jpeg\" class=\"bg-primary mb-1\" width=\"280px\">\n",
    "\n",
    "</figure>\n",
    "<br>\n",
    "    <figcaption><b>Fig. 11:</b> (a) Zip lock clamps holding mass in place (b) Data Acquisition Set Up using Camera (c) Picture taken by Camera</figcaption>\n",
    "</center>\n"
   ]
  },
  {
   "cell_type": "markdown",
   "id": "animal-acrobat",
   "metadata": {},
   "source": [
    "# Conclusions and Summary\n",
    "\n",
    "- conclusion 1: successfully generated a FM for a message freq\n",
    "- conclusion 2: successfully demodulated the FM to receive the message freq\n",
    "    - numbers of expected waveform\n",
    "    - numbers of simmed waveform\n",
    "    - uncertainties\n",
    "    - conclude that within margin of error\n",
    "- summary 1: failed attempt at car jacking\n",
    "    - software worked\n",
    "    - hardware missing/issue\n",
    "- summary 2: failed attempt at antenna making\n",
    "    - poor reception in basement\n",
    "    - possible resistance, leg length and knot issues \n",
    "\n",
    "---"
   ]
  },
  {
   "cell_type": "markdown",
   "id": "floating-disability",
   "metadata": {},
   "source": [
    "# Notes to the TA\n",
    "\n",
    "buy https://www.amazon.com/Bingfu-Antenna-Receiver-Pioneer-Marantz/dp/B08HHXFH98/ref=asc_df_B08HHXFH98/?tag=hyprod-20&linkCode=df0&hvadid=475825775681&hvpos=&hvnetw=g&hvrand=10966021251989471720&hvpone=&hvptwo=&hvqmt=&hvdev=c&hvdvcmdl=&hvlocint=&hvlocphy=9028540&hvtargid=pla-1074118701481&psc=1"
   ]
  },
  {
   "cell_type": "markdown",
   "id": "extreme-mouse",
   "metadata": {},
   "source": [
    "# Questions\n",
    "\n",
    "**1. Why are FM waves used more for car radios than AM waves? Do planes use FM or AM waves? Why?**\n",
    "\n",
    "---\n",
    "\n",
    "**2. What is a frequency discriminator?**\n",
    "\n",
    "---\n",
    "\n",
    "**3. What is a demodulator? Is there more than one type?**\n",
    "\n",
    "---"
   ]
  }
 ],
 "metadata": {
  "hide_input": false,
  "kernelspec": {
   "display_name": "Python 3",
   "language": "python",
   "name": "python3"
  },
  "language_info": {
   "codemirror_mode": {
    "name": "ipython",
    "version": 3
   },
   "file_extension": ".py",
   "mimetype": "text/x-python",
   "name": "python",
   "nbconvert_exporter": "python",
   "pygments_lexer": "ipython3",
   "version": "3.8.3"
  },
  "toc": {
   "base_numbering": 1,
   "nav_menu": {},
   "number_sections": true,
   "sideBar": true,
   "skip_h1_title": false,
   "title_cell": "Table of Contents",
   "title_sidebar": "Contents",
   "toc_cell": false,
   "toc_position": {},
   "toc_section_display": true,
   "toc_window_display": false
  },
  "varInspector": {
   "cols": {
    "lenName": 16,
    "lenType": 16,
    "lenVar": 40
   },
   "kernels_config": {
    "python": {
     "delete_cmd_postfix": "",
     "delete_cmd_prefix": "del ",
     "library": "var_list.py",
     "varRefreshCmd": "print(var_dic_list())"
    },
    "r": {
     "delete_cmd_postfix": ") ",
     "delete_cmd_prefix": "rm(",
     "library": "var_list.r",
     "varRefreshCmd": "cat(var_dic_list()) "
    }
   },
   "types_to_exclude": [
    "module",
    "function",
    "builtin_function_or_method",
    "instance",
    "_Feature"
   ],
   "window_display": false
  }
 },
 "nbformat": 4,
 "nbformat_minor": 5
}
